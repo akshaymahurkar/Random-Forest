{
 "cells": [
  {
   "cell_type": "code",
   "execution_count": 1,
   "id": "b679286f",
   "metadata": {},
   "outputs": [],
   "source": [
    "#load libraries\n",
    "import pandas as pd\n",
    "from pandas import read_csv\n",
    "from sklearn.model_selection import KFold\n",
    "from sklearn.model_selection import cross_val_score"
   ]
  },
  {
   "cell_type": "code",
   "execution_count": 2,
   "id": "5ced6e8b",
   "metadata": {
    "scrolled": false
   },
   "outputs": [
    {
     "data": {
      "text/html": [
       "<div>\n",
       "<style scoped>\n",
       "    .dataframe tbody tr th:only-of-type {\n",
       "        vertical-align: middle;\n",
       "    }\n",
       "\n",
       "    .dataframe tbody tr th {\n",
       "        vertical-align: top;\n",
       "    }\n",
       "\n",
       "    .dataframe thead th {\n",
       "        text-align: right;\n",
       "    }\n",
       "</style>\n",
       "<table border=\"1\" class=\"dataframe\">\n",
       "  <thead>\n",
       "    <tr style=\"text-align: right;\">\n",
       "      <th></th>\n",
       "      <th>Undergrad</th>\n",
       "      <th>Marital.Status</th>\n",
       "      <th>Taxable.Income</th>\n",
       "      <th>City.Population</th>\n",
       "      <th>Work.Experience</th>\n",
       "      <th>Urban</th>\n",
       "    </tr>\n",
       "  </thead>\n",
       "  <tbody>\n",
       "    <tr>\n",
       "      <th>0</th>\n",
       "      <td>NO</td>\n",
       "      <td>Single</td>\n",
       "      <td>68833</td>\n",
       "      <td>50047</td>\n",
       "      <td>10</td>\n",
       "      <td>YES</td>\n",
       "    </tr>\n",
       "    <tr>\n",
       "      <th>1</th>\n",
       "      <td>YES</td>\n",
       "      <td>Divorced</td>\n",
       "      <td>33700</td>\n",
       "      <td>134075</td>\n",
       "      <td>18</td>\n",
       "      <td>YES</td>\n",
       "    </tr>\n",
       "    <tr>\n",
       "      <th>2</th>\n",
       "      <td>NO</td>\n",
       "      <td>Married</td>\n",
       "      <td>36925</td>\n",
       "      <td>160205</td>\n",
       "      <td>30</td>\n",
       "      <td>YES</td>\n",
       "    </tr>\n",
       "    <tr>\n",
       "      <th>3</th>\n",
       "      <td>YES</td>\n",
       "      <td>Single</td>\n",
       "      <td>50190</td>\n",
       "      <td>193264</td>\n",
       "      <td>15</td>\n",
       "      <td>YES</td>\n",
       "    </tr>\n",
       "    <tr>\n",
       "      <th>4</th>\n",
       "      <td>NO</td>\n",
       "      <td>Married</td>\n",
       "      <td>81002</td>\n",
       "      <td>27533</td>\n",
       "      <td>28</td>\n",
       "      <td>NO</td>\n",
       "    </tr>\n",
       "  </tbody>\n",
       "</table>\n",
       "</div>"
      ],
      "text/plain": [
       "  Undergrad Marital.Status  Taxable.Income  City.Population  Work.Experience  \\\n",
       "0        NO         Single           68833            50047               10   \n",
       "1       YES       Divorced           33700           134075               18   \n",
       "2        NO        Married           36925           160205               30   \n",
       "3       YES         Single           50190           193264               15   \n",
       "4        NO        Married           81002            27533               28   \n",
       "\n",
       "  Urban  \n",
       "0   YES  \n",
       "1   YES  \n",
       "2   YES  \n",
       "3   YES  \n",
       "4    NO  "
      ]
     },
     "execution_count": 2,
     "metadata": {},
     "output_type": "execute_result"
    }
   ],
   "source": [
    "#import data\n",
    "data=pd.read_csv('D:\\\\ExcelR\\\\Assignments\\\\Downloaded\\\\Random Forests\\\\Fraud_Check.csv')\n",
    "data.head()"
   ]
  },
  {
   "cell_type": "code",
   "execution_count": 3,
   "id": "b7de02c7",
   "metadata": {},
   "outputs": [
    {
     "name": "stdout",
     "output_type": "stream",
     "text": [
      "(60, 6)\n",
      "       Taxable.Income  City.Population  Work.Experience\n",
      "count       60.000000        60.000000        60.000000\n",
      "mean     56500.516667    104336.416667        14.000000\n",
      "std      23436.263215     50970.870610         9.187316\n",
      "min      10455.000000     25779.000000         0.000000\n",
      "25%      38929.000000     66606.000000         5.000000\n",
      "50%      56545.500000    100268.500000        12.000000\n",
      "75%      72048.250000    148858.500000        22.000000\n",
      "max      99325.000000    198571.000000        30.000000\n"
     ]
    }
   ],
   "source": [
    "# Print the shape of the data\n",
    "data = data.sample(frac=0.1, random_state = 48)\n",
    "print(data.shape)\n",
    "print(data.describe())\n",
    "\n",
    "# the results of a PCA Dimensionality reduction to protect user identities and sensitive features"
   ]
  },
  {
   "cell_type": "code",
   "execution_count": 4,
   "id": "4d1b27b4",
   "metadata": {},
   "outputs": [],
   "source": [
    "data.loc[data[\"Taxable.Income\"]>=30000,\"Income\"]=\"Good\"\n",
    "data.loc[data[\"Taxable.Income\"]<=30000,\"Income\"]=\"Risky\""
   ]
  },
  {
   "cell_type": "code",
   "execution_count": 5,
   "id": "da5e8b22",
   "metadata": {
    "scrolled": false
   },
   "outputs": [
    {
     "data": {
      "text/html": [
       "<div>\n",
       "<style scoped>\n",
       "    .dataframe tbody tr th:only-of-type {\n",
       "        vertical-align: middle;\n",
       "    }\n",
       "\n",
       "    .dataframe tbody tr th {\n",
       "        vertical-align: top;\n",
       "    }\n",
       "\n",
       "    .dataframe thead th {\n",
       "        text-align: right;\n",
       "    }\n",
       "</style>\n",
       "<table border=\"1\" class=\"dataframe\">\n",
       "  <thead>\n",
       "    <tr style=\"text-align: right;\">\n",
       "      <th></th>\n",
       "      <th>Undergrad</th>\n",
       "      <th>Marital.Status</th>\n",
       "      <th>Taxable.Income</th>\n",
       "      <th>City.Population</th>\n",
       "      <th>Work.Experience</th>\n",
       "      <th>Urban</th>\n",
       "      <th>Income</th>\n",
       "    </tr>\n",
       "  </thead>\n",
       "  <tbody>\n",
       "    <tr>\n",
       "      <th>547</th>\n",
       "      <td>YES</td>\n",
       "      <td>Single</td>\n",
       "      <td>92819</td>\n",
       "      <td>42690</td>\n",
       "      <td>25</td>\n",
       "      <td>YES</td>\n",
       "      <td>Good</td>\n",
       "    </tr>\n",
       "    <tr>\n",
       "      <th>522</th>\n",
       "      <td>NO</td>\n",
       "      <td>Divorced</td>\n",
       "      <td>43980</td>\n",
       "      <td>103343</td>\n",
       "      <td>10</td>\n",
       "      <td>NO</td>\n",
       "      <td>Good</td>\n",
       "    </tr>\n",
       "    <tr>\n",
       "      <th>449</th>\n",
       "      <td>NO</td>\n",
       "      <td>Married</td>\n",
       "      <td>92007</td>\n",
       "      <td>27875</td>\n",
       "      <td>11</td>\n",
       "      <td>NO</td>\n",
       "      <td>Good</td>\n",
       "    </tr>\n",
       "    <tr>\n",
       "      <th>407</th>\n",
       "      <td>NO</td>\n",
       "      <td>Single</td>\n",
       "      <td>33138</td>\n",
       "      <td>52144</td>\n",
       "      <td>6</td>\n",
       "      <td>NO</td>\n",
       "      <td>Good</td>\n",
       "    </tr>\n",
       "    <tr>\n",
       "      <th>131</th>\n",
       "      <td>YES</td>\n",
       "      <td>Single</td>\n",
       "      <td>56501</td>\n",
       "      <td>174321</td>\n",
       "      <td>16</td>\n",
       "      <td>YES</td>\n",
       "      <td>Good</td>\n",
       "    </tr>\n",
       "    <tr>\n",
       "      <th>559</th>\n",
       "      <td>YES</td>\n",
       "      <td>Divorced</td>\n",
       "      <td>72026</td>\n",
       "      <td>180424</td>\n",
       "      <td>26</td>\n",
       "      <td>NO</td>\n",
       "      <td>Good</td>\n",
       "    </tr>\n",
       "    <tr>\n",
       "      <th>424</th>\n",
       "      <td>YES</td>\n",
       "      <td>Married</td>\n",
       "      <td>72268</td>\n",
       "      <td>94199</td>\n",
       "      <td>0</td>\n",
       "      <td>YES</td>\n",
       "      <td>Good</td>\n",
       "    </tr>\n",
       "    <tr>\n",
       "      <th>156</th>\n",
       "      <td>YES</td>\n",
       "      <td>Married</td>\n",
       "      <td>39114</td>\n",
       "      <td>125987</td>\n",
       "      <td>3</td>\n",
       "      <td>YES</td>\n",
       "      <td>Good</td>\n",
       "    </tr>\n",
       "    <tr>\n",
       "      <th>436</th>\n",
       "      <td>NO</td>\n",
       "      <td>Divorced</td>\n",
       "      <td>98738</td>\n",
       "      <td>158057</td>\n",
       "      <td>4</td>\n",
       "      <td>YES</td>\n",
       "      <td>Good</td>\n",
       "    </tr>\n",
       "    <tr>\n",
       "      <th>203</th>\n",
       "      <td>YES</td>\n",
       "      <td>Divorced</td>\n",
       "      <td>56536</td>\n",
       "      <td>117260</td>\n",
       "      <td>4</td>\n",
       "      <td>NO</td>\n",
       "      <td>Good</td>\n",
       "    </tr>\n",
       "    <tr>\n",
       "      <th>97</th>\n",
       "      <td>YES</td>\n",
       "      <td>Divorced</td>\n",
       "      <td>79583</td>\n",
       "      <td>37849</td>\n",
       "      <td>19</td>\n",
       "      <td>YES</td>\n",
       "      <td>Good</td>\n",
       "    </tr>\n",
       "    <tr>\n",
       "      <th>84</th>\n",
       "      <td>NO</td>\n",
       "      <td>Married</td>\n",
       "      <td>69098</td>\n",
       "      <td>178083</td>\n",
       "      <td>4</td>\n",
       "      <td>YES</td>\n",
       "      <td>Good</td>\n",
       "    </tr>\n",
       "    <tr>\n",
       "      <th>304</th>\n",
       "      <td>YES</td>\n",
       "      <td>Divorced</td>\n",
       "      <td>62141</td>\n",
       "      <td>106757</td>\n",
       "      <td>23</td>\n",
       "      <td>YES</td>\n",
       "      <td>Good</td>\n",
       "    </tr>\n",
       "    <tr>\n",
       "      <th>215</th>\n",
       "      <td>NO</td>\n",
       "      <td>Divorced</td>\n",
       "      <td>52891</td>\n",
       "      <td>28576</td>\n",
       "      <td>22</td>\n",
       "      <td>NO</td>\n",
       "      <td>Good</td>\n",
       "    </tr>\n",
       "    <tr>\n",
       "      <th>574</th>\n",
       "      <td>YES</td>\n",
       "      <td>Divorced</td>\n",
       "      <td>44809</td>\n",
       "      <td>28768</td>\n",
       "      <td>29</td>\n",
       "      <td>YES</td>\n",
       "      <td>Good</td>\n",
       "    </tr>\n",
       "    <tr>\n",
       "      <th>479</th>\n",
       "      <td>YES</td>\n",
       "      <td>Married</td>\n",
       "      <td>58403</td>\n",
       "      <td>68995</td>\n",
       "      <td>21</td>\n",
       "      <td>NO</td>\n",
       "      <td>Good</td>\n",
       "    </tr>\n",
       "    <tr>\n",
       "      <th>458</th>\n",
       "      <td>YES</td>\n",
       "      <td>Single</td>\n",
       "      <td>10455</td>\n",
       "      <td>110892</td>\n",
       "      <td>18</td>\n",
       "      <td>YES</td>\n",
       "      <td>Risky</td>\n",
       "    </tr>\n",
       "    <tr>\n",
       "      <th>66</th>\n",
       "      <td>YES</td>\n",
       "      <td>Married</td>\n",
       "      <td>42507</td>\n",
       "      <td>66985</td>\n",
       "      <td>12</td>\n",
       "      <td>YES</td>\n",
       "      <td>Good</td>\n",
       "    </tr>\n",
       "    <tr>\n",
       "      <th>38</th>\n",
       "      <td>NO</td>\n",
       "      <td>Single</td>\n",
       "      <td>14912</td>\n",
       "      <td>177575</td>\n",
       "      <td>3</td>\n",
       "      <td>NO</td>\n",
       "      <td>Risky</td>\n",
       "    </tr>\n",
       "    <tr>\n",
       "      <th>91</th>\n",
       "      <td>YES</td>\n",
       "      <td>Married</td>\n",
       "      <td>99325</td>\n",
       "      <td>73733</td>\n",
       "      <td>10</td>\n",
       "      <td>YES</td>\n",
       "      <td>Good</td>\n",
       "    </tr>\n",
       "    <tr>\n",
       "      <th>259</th>\n",
       "      <td>NO</td>\n",
       "      <td>Married</td>\n",
       "      <td>24347</td>\n",
       "      <td>197841</td>\n",
       "      <td>7</td>\n",
       "      <td>NO</td>\n",
       "      <td>Risky</td>\n",
       "    </tr>\n",
       "    <tr>\n",
       "      <th>150</th>\n",
       "      <td>NO</td>\n",
       "      <td>Married</td>\n",
       "      <td>79700</td>\n",
       "      <td>161759</td>\n",
       "      <td>28</td>\n",
       "      <td>NO</td>\n",
       "      <td>Good</td>\n",
       "    </tr>\n",
       "    <tr>\n",
       "      <th>42</th>\n",
       "      <td>NO</td>\n",
       "      <td>Single</td>\n",
       "      <td>96485</td>\n",
       "      <td>51666</td>\n",
       "      <td>12</td>\n",
       "      <td>NO</td>\n",
       "      <td>Good</td>\n",
       "    </tr>\n",
       "    <tr>\n",
       "      <th>277</th>\n",
       "      <td>NO</td>\n",
       "      <td>Divorced</td>\n",
       "      <td>63710</td>\n",
       "      <td>117364</td>\n",
       "      <td>11</td>\n",
       "      <td>NO</td>\n",
       "      <td>Good</td>\n",
       "    </tr>\n",
       "    <tr>\n",
       "      <th>223</th>\n",
       "      <td>YES</td>\n",
       "      <td>Married</td>\n",
       "      <td>38374</td>\n",
       "      <td>192297</td>\n",
       "      <td>17</td>\n",
       "      <td>YES</td>\n",
       "      <td>Good</td>\n",
       "    </tr>\n",
       "    <tr>\n",
       "      <th>430</th>\n",
       "      <td>YES</td>\n",
       "      <td>Married</td>\n",
       "      <td>98720</td>\n",
       "      <td>161215</td>\n",
       "      <td>8</td>\n",
       "      <td>NO</td>\n",
       "      <td>Good</td>\n",
       "    </tr>\n",
       "    <tr>\n",
       "      <th>577</th>\n",
       "      <td>YES</td>\n",
       "      <td>Married</td>\n",
       "      <td>56166</td>\n",
       "      <td>52940</td>\n",
       "      <td>5</td>\n",
       "      <td>YES</td>\n",
       "      <td>Good</td>\n",
       "    </tr>\n",
       "    <tr>\n",
       "      <th>377</th>\n",
       "      <td>YES</td>\n",
       "      <td>Single</td>\n",
       "      <td>56555</td>\n",
       "      <td>103490</td>\n",
       "      <td>30</td>\n",
       "      <td>NO</td>\n",
       "      <td>Good</td>\n",
       "    </tr>\n",
       "    <tr>\n",
       "      <th>282</th>\n",
       "      <td>YES</td>\n",
       "      <td>Married</td>\n",
       "      <td>64667</td>\n",
       "      <td>59590</td>\n",
       "      <td>29</td>\n",
       "      <td>NO</td>\n",
       "      <td>Good</td>\n",
       "    </tr>\n",
       "    <tr>\n",
       "      <th>67</th>\n",
       "      <td>YES</td>\n",
       "      <td>Married</td>\n",
       "      <td>61486</td>\n",
       "      <td>173986</td>\n",
       "      <td>24</td>\n",
       "      <td>NO</td>\n",
       "      <td>Good</td>\n",
       "    </tr>\n",
       "    <tr>\n",
       "      <th>510</th>\n",
       "      <td>YES</td>\n",
       "      <td>Married</td>\n",
       "      <td>72115</td>\n",
       "      <td>75436</td>\n",
       "      <td>14</td>\n",
       "      <td>YES</td>\n",
       "      <td>Good</td>\n",
       "    </tr>\n",
       "    <tr>\n",
       "      <th>201</th>\n",
       "      <td>YES</td>\n",
       "      <td>Divorced</td>\n",
       "      <td>31088</td>\n",
       "      <td>58225</td>\n",
       "      <td>27</td>\n",
       "      <td>YES</td>\n",
       "      <td>Good</td>\n",
       "    </tr>\n",
       "    <tr>\n",
       "      <th>30</th>\n",
       "      <td>YES</td>\n",
       "      <td>Divorced</td>\n",
       "      <td>73854</td>\n",
       "      <td>117788</td>\n",
       "      <td>0</td>\n",
       "      <td>YES</td>\n",
       "      <td>Good</td>\n",
       "    </tr>\n",
       "    <tr>\n",
       "      <th>564</th>\n",
       "      <td>YES</td>\n",
       "      <td>Married</td>\n",
       "      <td>41545</td>\n",
       "      <td>30098</td>\n",
       "      <td>11</td>\n",
       "      <td>YES</td>\n",
       "      <td>Good</td>\n",
       "    </tr>\n",
       "    <tr>\n",
       "      <th>216</th>\n",
       "      <td>NO</td>\n",
       "      <td>Divorced</td>\n",
       "      <td>31409</td>\n",
       "      <td>85128</td>\n",
       "      <td>22</td>\n",
       "      <td>NO</td>\n",
       "      <td>Good</td>\n",
       "    </tr>\n",
       "    <tr>\n",
       "      <th>71</th>\n",
       "      <td>NO</td>\n",
       "      <td>Single</td>\n",
       "      <td>94287</td>\n",
       "      <td>105680</td>\n",
       "      <td>22</td>\n",
       "      <td>NO</td>\n",
       "      <td>Good</td>\n",
       "    </tr>\n",
       "    <tr>\n",
       "      <th>441</th>\n",
       "      <td>NO</td>\n",
       "      <td>Divorced</td>\n",
       "      <td>42074</td>\n",
       "      <td>70314</td>\n",
       "      <td>24</td>\n",
       "      <td>NO</td>\n",
       "      <td>Good</td>\n",
       "    </tr>\n",
       "    <tr>\n",
       "      <th>358</th>\n",
       "      <td>YES</td>\n",
       "      <td>Single</td>\n",
       "      <td>80239</td>\n",
       "      <td>96432</td>\n",
       "      <td>24</td>\n",
       "      <td>YES</td>\n",
       "      <td>Good</td>\n",
       "    </tr>\n",
       "    <tr>\n",
       "      <th>580</th>\n",
       "      <td>YES</td>\n",
       "      <td>Divorced</td>\n",
       "      <td>31721</td>\n",
       "      <td>123335</td>\n",
       "      <td>1</td>\n",
       "      <td>YES</td>\n",
       "      <td>Good</td>\n",
       "    </tr>\n",
       "    <tr>\n",
       "      <th>491</th>\n",
       "      <td>NO</td>\n",
       "      <td>Divorced</td>\n",
       "      <td>24541</td>\n",
       "      <td>82029</td>\n",
       "      <td>10</td>\n",
       "      <td>NO</td>\n",
       "      <td>Risky</td>\n",
       "    </tr>\n",
       "    <tr>\n",
       "      <th>1</th>\n",
       "      <td>YES</td>\n",
       "      <td>Divorced</td>\n",
       "      <td>33700</td>\n",
       "      <td>134075</td>\n",
       "      <td>18</td>\n",
       "      <td>YES</td>\n",
       "      <td>Good</td>\n",
       "    </tr>\n",
       "    <tr>\n",
       "      <th>8</th>\n",
       "      <td>NO</td>\n",
       "      <td>Single</td>\n",
       "      <td>83519</td>\n",
       "      <td>102481</td>\n",
       "      <td>12</td>\n",
       "      <td>YES</td>\n",
       "      <td>Good</td>\n",
       "    </tr>\n",
       "    <tr>\n",
       "      <th>314</th>\n",
       "      <td>NO</td>\n",
       "      <td>Single</td>\n",
       "      <td>59689</td>\n",
       "      <td>85255</td>\n",
       "      <td>4</td>\n",
       "      <td>NO</td>\n",
       "      <td>Good</td>\n",
       "    </tr>\n",
       "    <tr>\n",
       "      <th>325</th>\n",
       "      <td>NO</td>\n",
       "      <td>Single</td>\n",
       "      <td>94013</td>\n",
       "      <td>25779</td>\n",
       "      <td>16</td>\n",
       "      <td>YES</td>\n",
       "      <td>Good</td>\n",
       "    </tr>\n",
       "    <tr>\n",
       "      <th>292</th>\n",
       "      <td>YES</td>\n",
       "      <td>Single</td>\n",
       "      <td>15710</td>\n",
       "      <td>76406</td>\n",
       "      <td>1</td>\n",
       "      <td>YES</td>\n",
       "      <td>Risky</td>\n",
       "    </tr>\n",
       "    <tr>\n",
       "      <th>107</th>\n",
       "      <td>NO</td>\n",
       "      <td>Married</td>\n",
       "      <td>46629</td>\n",
       "      <td>52424</td>\n",
       "      <td>6</td>\n",
       "      <td>YES</td>\n",
       "      <td>Good</td>\n",
       "    </tr>\n",
       "    <tr>\n",
       "      <th>313</th>\n",
       "      <td>YES</td>\n",
       "      <td>Single</td>\n",
       "      <td>61124</td>\n",
       "      <td>124848</td>\n",
       "      <td>2</td>\n",
       "      <td>NO</td>\n",
       "      <td>Good</td>\n",
       "    </tr>\n",
       "    <tr>\n",
       "      <th>316</th>\n",
       "      <td>NO</td>\n",
       "      <td>Married</td>\n",
       "      <td>48192</td>\n",
       "      <td>70323</td>\n",
       "      <td>25</td>\n",
       "      <td>NO</td>\n",
       "      <td>Good</td>\n",
       "    </tr>\n",
       "    <tr>\n",
       "      <th>389</th>\n",
       "      <td>YES</td>\n",
       "      <td>Single</td>\n",
       "      <td>64225</td>\n",
       "      <td>183187</td>\n",
       "      <td>5</td>\n",
       "      <td>YES</td>\n",
       "      <td>Good</td>\n",
       "    </tr>\n",
       "    <tr>\n",
       "      <th>31</th>\n",
       "      <td>NO</td>\n",
       "      <td>Divorced</td>\n",
       "      <td>64007</td>\n",
       "      <td>147414</td>\n",
       "      <td>21</td>\n",
       "      <td>NO</td>\n",
       "      <td>Good</td>\n",
       "    </tr>\n",
       "    <tr>\n",
       "      <th>164</th>\n",
       "      <td>YES</td>\n",
       "      <td>Single</td>\n",
       "      <td>48779</td>\n",
       "      <td>153192</td>\n",
       "      <td>28</td>\n",
       "      <td>NO</td>\n",
       "      <td>Good</td>\n",
       "    </tr>\n",
       "    <tr>\n",
       "      <th>336</th>\n",
       "      <td>NO</td>\n",
       "      <td>Married</td>\n",
       "      <td>62800</td>\n",
       "      <td>73146</td>\n",
       "      <td>5</td>\n",
       "      <td>NO</td>\n",
       "      <td>Good</td>\n",
       "    </tr>\n",
       "    <tr>\n",
       "      <th>504</th>\n",
       "      <td>NO</td>\n",
       "      <td>Divorced</td>\n",
       "      <td>46939</td>\n",
       "      <td>198571</td>\n",
       "      <td>19</td>\n",
       "      <td>YES</td>\n",
       "      <td>Good</td>\n",
       "    </tr>\n",
       "    <tr>\n",
       "      <th>596</th>\n",
       "      <td>YES</td>\n",
       "      <td>Divorced</td>\n",
       "      <td>69967</td>\n",
       "      <td>55369</td>\n",
       "      <td>2</td>\n",
       "      <td>YES</td>\n",
       "      <td>Good</td>\n",
       "    </tr>\n",
       "    <tr>\n",
       "      <th>401</th>\n",
       "      <td>NO</td>\n",
       "      <td>Married</td>\n",
       "      <td>37580</td>\n",
       "      <td>73065</td>\n",
       "      <td>20</td>\n",
       "      <td>NO</td>\n",
       "      <td>Good</td>\n",
       "    </tr>\n",
       "    <tr>\n",
       "      <th>197</th>\n",
       "      <td>NO</td>\n",
       "      <td>Single</td>\n",
       "      <td>66905</td>\n",
       "      <td>98056</td>\n",
       "      <td>4</td>\n",
       "      <td>YES</td>\n",
       "      <td>Good</td>\n",
       "    </tr>\n",
       "    <tr>\n",
       "      <th>339</th>\n",
       "      <td>YES</td>\n",
       "      <td>Single</td>\n",
       "      <td>13571</td>\n",
       "      <td>110940</td>\n",
       "      <td>10</td>\n",
       "      <td>NO</td>\n",
       "      <td>Risky</td>\n",
       "    </tr>\n",
       "    <tr>\n",
       "      <th>343</th>\n",
       "      <td>YES</td>\n",
       "      <td>Divorced</td>\n",
       "      <td>30495</td>\n",
       "      <td>161143</td>\n",
       "      <td>17</td>\n",
       "      <td>NO</td>\n",
       "      <td>Good</td>\n",
       "    </tr>\n",
       "    <tr>\n",
       "      <th>129</th>\n",
       "      <td>YES</td>\n",
       "      <td>Single</td>\n",
       "      <td>53378</td>\n",
       "      <td>65469</td>\n",
       "      <td>26</td>\n",
       "      <td>NO</td>\n",
       "      <td>Good</td>\n",
       "    </tr>\n",
       "    <tr>\n",
       "      <th>299</th>\n",
       "      <td>YES</td>\n",
       "      <td>Single</td>\n",
       "      <td>34475</td>\n",
       "      <td>197916</td>\n",
       "      <td>7</td>\n",
       "      <td>NO</td>\n",
       "      <td>Good</td>\n",
       "    </tr>\n",
       "  </tbody>\n",
       "</table>\n",
       "</div>"
      ],
      "text/plain": [
       "    Undergrad Marital.Status  Taxable.Income  City.Population  \\\n",
       "547       YES         Single           92819            42690   \n",
       "522        NO       Divorced           43980           103343   \n",
       "449        NO        Married           92007            27875   \n",
       "407        NO         Single           33138            52144   \n",
       "131       YES         Single           56501           174321   \n",
       "559       YES       Divorced           72026           180424   \n",
       "424       YES        Married           72268            94199   \n",
       "156       YES        Married           39114           125987   \n",
       "436        NO       Divorced           98738           158057   \n",
       "203       YES       Divorced           56536           117260   \n",
       "97        YES       Divorced           79583            37849   \n",
       "84         NO        Married           69098           178083   \n",
       "304       YES       Divorced           62141           106757   \n",
       "215        NO       Divorced           52891            28576   \n",
       "574       YES       Divorced           44809            28768   \n",
       "479       YES        Married           58403            68995   \n",
       "458       YES         Single           10455           110892   \n",
       "66        YES        Married           42507            66985   \n",
       "38         NO         Single           14912           177575   \n",
       "91        YES        Married           99325            73733   \n",
       "259        NO        Married           24347           197841   \n",
       "150        NO        Married           79700           161759   \n",
       "42         NO         Single           96485            51666   \n",
       "277        NO       Divorced           63710           117364   \n",
       "223       YES        Married           38374           192297   \n",
       "430       YES        Married           98720           161215   \n",
       "577       YES        Married           56166            52940   \n",
       "377       YES         Single           56555           103490   \n",
       "282       YES        Married           64667            59590   \n",
       "67        YES        Married           61486           173986   \n",
       "510       YES        Married           72115            75436   \n",
       "201       YES       Divorced           31088            58225   \n",
       "30        YES       Divorced           73854           117788   \n",
       "564       YES        Married           41545            30098   \n",
       "216        NO       Divorced           31409            85128   \n",
       "71         NO         Single           94287           105680   \n",
       "441        NO       Divorced           42074            70314   \n",
       "358       YES         Single           80239            96432   \n",
       "580       YES       Divorced           31721           123335   \n",
       "491        NO       Divorced           24541            82029   \n",
       "1         YES       Divorced           33700           134075   \n",
       "8          NO         Single           83519           102481   \n",
       "314        NO         Single           59689            85255   \n",
       "325        NO         Single           94013            25779   \n",
       "292       YES         Single           15710            76406   \n",
       "107        NO        Married           46629            52424   \n",
       "313       YES         Single           61124           124848   \n",
       "316        NO        Married           48192            70323   \n",
       "389       YES         Single           64225           183187   \n",
       "31         NO       Divorced           64007           147414   \n",
       "164       YES         Single           48779           153192   \n",
       "336        NO        Married           62800            73146   \n",
       "504        NO       Divorced           46939           198571   \n",
       "596       YES       Divorced           69967            55369   \n",
       "401        NO        Married           37580            73065   \n",
       "197        NO         Single           66905            98056   \n",
       "339       YES         Single           13571           110940   \n",
       "343       YES       Divorced           30495           161143   \n",
       "129       YES         Single           53378            65469   \n",
       "299       YES         Single           34475           197916   \n",
       "\n",
       "     Work.Experience Urban Income  \n",
       "547               25   YES   Good  \n",
       "522               10    NO   Good  \n",
       "449               11    NO   Good  \n",
       "407                6    NO   Good  \n",
       "131               16   YES   Good  \n",
       "559               26    NO   Good  \n",
       "424                0   YES   Good  \n",
       "156                3   YES   Good  \n",
       "436                4   YES   Good  \n",
       "203                4    NO   Good  \n",
       "97                19   YES   Good  \n",
       "84                 4   YES   Good  \n",
       "304               23   YES   Good  \n",
       "215               22    NO   Good  \n",
       "574               29   YES   Good  \n",
       "479               21    NO   Good  \n",
       "458               18   YES  Risky  \n",
       "66                12   YES   Good  \n",
       "38                 3    NO  Risky  \n",
       "91                10   YES   Good  \n",
       "259                7    NO  Risky  \n",
       "150               28    NO   Good  \n",
       "42                12    NO   Good  \n",
       "277               11    NO   Good  \n",
       "223               17   YES   Good  \n",
       "430                8    NO   Good  \n",
       "577                5   YES   Good  \n",
       "377               30    NO   Good  \n",
       "282               29    NO   Good  \n",
       "67                24    NO   Good  \n",
       "510               14   YES   Good  \n",
       "201               27   YES   Good  \n",
       "30                 0   YES   Good  \n",
       "564               11   YES   Good  \n",
       "216               22    NO   Good  \n",
       "71                22    NO   Good  \n",
       "441               24    NO   Good  \n",
       "358               24   YES   Good  \n",
       "580                1   YES   Good  \n",
       "491               10    NO  Risky  \n",
       "1                 18   YES   Good  \n",
       "8                 12   YES   Good  \n",
       "314                4    NO   Good  \n",
       "325               16   YES   Good  \n",
       "292                1   YES  Risky  \n",
       "107                6   YES   Good  \n",
       "313                2    NO   Good  \n",
       "316               25    NO   Good  \n",
       "389                5   YES   Good  \n",
       "31                21    NO   Good  \n",
       "164               28    NO   Good  \n",
       "336                5    NO   Good  \n",
       "504               19   YES   Good  \n",
       "596                2   YES   Good  \n",
       "401               20    NO   Good  \n",
       "197                4   YES   Good  \n",
       "339               10    NO  Risky  \n",
       "343               17    NO   Good  \n",
       "129               26    NO   Good  \n",
       "299                7    NO   Good  "
      ]
     },
     "execution_count": 5,
     "metadata": {},
     "output_type": "execute_result"
    }
   ],
   "source": [
    "data"
   ]
  },
  {
   "cell_type": "code",
   "execution_count": 6,
   "id": "9e2fbc64",
   "metadata": {},
   "outputs": [],
   "source": [
    "from sklearn import preprocessing\n",
    "le=preprocessing.LabelEncoder()\n",
    "for column_name in data.columns:\n",
    "    if data[column_name].dtype == object:\n",
    "        data[column_name] = le.fit_transform(data[column_name])\n",
    "    else:\n",
    "        pass"
   ]
  },
  {
   "cell_type": "code",
   "execution_count": 7,
   "id": "bf0ec3d7",
   "metadata": {},
   "outputs": [
    {
     "data": {
      "text/plain": [
       "['Undergrad',\n",
       " 'Marital.Status',\n",
       " 'Taxable.Income',\n",
       " 'City.Population',\n",
       " 'Work.Experience',\n",
       " 'Urban',\n",
       " 'Income']"
      ]
     },
     "execution_count": 7,
     "metadata": {},
     "output_type": "execute_result"
    }
   ],
   "source": [
    "## Collecting the column names\n",
    "colnames = list(data.columns)\n",
    "colnames"
   ]
  },
  {
   "cell_type": "code",
   "execution_count": 8,
   "id": "d4bb7b81",
   "metadata": {
    "scrolled": true
   },
   "outputs": [
    {
     "data": {
      "text/plain": [
       "Undergrad          0.0\n",
       "Marital.Status     0.0\n",
       "Taxable.Income     0.0\n",
       "City.Population    0.0\n",
       "Work.Experience    0.0\n",
       "Urban              0.0\n",
       "Income             0.0\n",
       "dtype: float64"
      ]
     },
     "execution_count": 8,
     "metadata": {},
     "output_type": "execute_result"
    }
   ],
   "source": [
    "data.isnull().mean()"
   ]
  },
  {
   "cell_type": "code",
   "execution_count": 27,
   "id": "8a17891b",
   "metadata": {
    "scrolled": false
   },
   "outputs": [
    {
     "data": {
      "text/html": [
       "<div>\n",
       "<style scoped>\n",
       "    .dataframe tbody tr th:only-of-type {\n",
       "        vertical-align: middle;\n",
       "    }\n",
       "\n",
       "    .dataframe tbody tr th {\n",
       "        vertical-align: top;\n",
       "    }\n",
       "\n",
       "    .dataframe thead th {\n",
       "        text-align: right;\n",
       "    }\n",
       "</style>\n",
       "<table border=\"1\" class=\"dataframe\">\n",
       "  <thead>\n",
       "    <tr style=\"text-align: right;\">\n",
       "      <th></th>\n",
       "      <th>Undergrad</th>\n",
       "      <th>Marital_Status</th>\n",
       "      <th>City_Population</th>\n",
       "      <th>Work_Experience</th>\n",
       "      <th>Urban</th>\n",
       "      <th>Income</th>\n",
       "    </tr>\n",
       "  </thead>\n",
       "  <tbody>\n",
       "    <tr>\n",
       "      <th>547</th>\n",
       "      <td>1</td>\n",
       "      <td>2</td>\n",
       "      <td>42690</td>\n",
       "      <td>25</td>\n",
       "      <td>1</td>\n",
       "      <td>0</td>\n",
       "    </tr>\n",
       "    <tr>\n",
       "      <th>522</th>\n",
       "      <td>0</td>\n",
       "      <td>0</td>\n",
       "      <td>103343</td>\n",
       "      <td>10</td>\n",
       "      <td>0</td>\n",
       "      <td>0</td>\n",
       "    </tr>\n",
       "    <tr>\n",
       "      <th>449</th>\n",
       "      <td>0</td>\n",
       "      <td>1</td>\n",
       "      <td>27875</td>\n",
       "      <td>11</td>\n",
       "      <td>0</td>\n",
       "      <td>0</td>\n",
       "    </tr>\n",
       "    <tr>\n",
       "      <th>407</th>\n",
       "      <td>0</td>\n",
       "      <td>2</td>\n",
       "      <td>52144</td>\n",
       "      <td>6</td>\n",
       "      <td>0</td>\n",
       "      <td>0</td>\n",
       "    </tr>\n",
       "    <tr>\n",
       "      <th>131</th>\n",
       "      <td>1</td>\n",
       "      <td>2</td>\n",
       "      <td>174321</td>\n",
       "      <td>16</td>\n",
       "      <td>1</td>\n",
       "      <td>0</td>\n",
       "    </tr>\n",
       "  </tbody>\n",
       "</table>\n",
       "</div>"
      ],
      "text/plain": [
       "     Undergrad  Marital_Status  City_Population  Work_Experience  Urban  \\\n",
       "547          1               2            42690               25      1   \n",
       "522          0               0           103343               10      0   \n",
       "449          0               1            27875               11      0   \n",
       "407          0               2            52144                6      0   \n",
       "131          1               2           174321               16      1   \n",
       "\n",
       "     Income  \n",
       "547       0  \n",
       "522       0  \n",
       "449       0  \n",
       "407       0  \n",
       "131       0  "
      ]
     },
     "execution_count": 27,
     "metadata": {},
     "output_type": "execute_result"
    }
   ],
   "source": [
    "data.dropna().head()"
   ]
  },
  {
   "cell_type": "code",
   "execution_count": 10,
   "id": "2f9004c2",
   "metadata": {},
   "outputs": [
    {
     "data": {
      "text/plain": [
       "(0, 7)"
      ]
     },
     "execution_count": 10,
     "metadata": {},
     "output_type": "execute_result"
    }
   ],
   "source": [
    "data[data.duplicated()].shape"
   ]
  },
  {
   "cell_type": "markdown",
   "id": "cca72c91",
   "metadata": {},
   "source": [
    "-no duplicated values"
   ]
  },
  {
   "cell_type": "code",
   "execution_count": 11,
   "id": "985b8f0b",
   "metadata": {},
   "outputs": [
    {
     "name": "stdout",
     "output_type": "stream",
     "text": [
      "<class 'pandas.core.frame.DataFrame'>\n",
      "Int64Index: 60 entries, 547 to 299\n",
      "Data columns (total 7 columns):\n",
      " #   Column           Non-Null Count  Dtype\n",
      "---  ------           --------------  -----\n",
      " 0   Undergrad        60 non-null     int32\n",
      " 1   Marital.Status   60 non-null     int32\n",
      " 2   Taxable.Income   60 non-null     int64\n",
      " 3   City.Population  60 non-null     int64\n",
      " 4   Work.Experience  60 non-null     int64\n",
      " 5   Urban            60 non-null     int32\n",
      " 6   Income           60 non-null     int32\n",
      "dtypes: int32(4), int64(3)\n",
      "memory usage: 2.8 KB\n"
     ]
    }
   ],
   "source": [
    "data.info()"
   ]
  },
  {
   "cell_type": "code",
   "execution_count": 12,
   "id": "3c7d9760",
   "metadata": {
    "scrolled": true
   },
   "outputs": [
    {
     "data": {
      "text/html": [
       "<div>\n",
       "<style scoped>\n",
       "    .dataframe tbody tr th:only-of-type {\n",
       "        vertical-align: middle;\n",
       "    }\n",
       "\n",
       "    .dataframe tbody tr th {\n",
       "        vertical-align: top;\n",
       "    }\n",
       "\n",
       "    .dataframe thead th {\n",
       "        text-align: right;\n",
       "    }\n",
       "</style>\n",
       "<table border=\"1\" class=\"dataframe\">\n",
       "  <thead>\n",
       "    <tr style=\"text-align: right;\">\n",
       "      <th></th>\n",
       "      <th>Undergrad</th>\n",
       "      <th>Marital.Status</th>\n",
       "      <th>Taxable.Income</th>\n",
       "      <th>City.Population</th>\n",
       "      <th>Work.Experience</th>\n",
       "      <th>Urban</th>\n",
       "      <th>Income</th>\n",
       "    </tr>\n",
       "  </thead>\n",
       "  <tbody>\n",
       "    <tr>\n",
       "      <th>count</th>\n",
       "      <td>60.000000</td>\n",
       "      <td>60.000000</td>\n",
       "      <td>60.000000</td>\n",
       "      <td>60.000000</td>\n",
       "      <td>60.000000</td>\n",
       "      <td>60.000000</td>\n",
       "      <td>60.000000</td>\n",
       "    </tr>\n",
       "    <tr>\n",
       "      <th>mean</th>\n",
       "      <td>0.583333</td>\n",
       "      <td>1.000000</td>\n",
       "      <td>56500.516667</td>\n",
       "      <td>104336.416667</td>\n",
       "      <td>14.000000</td>\n",
       "      <td>0.483333</td>\n",
       "      <td>0.100000</td>\n",
       "    </tr>\n",
       "    <tr>\n",
       "      <th>std</th>\n",
       "      <td>0.497167</td>\n",
       "      <td>0.823387</td>\n",
       "      <td>23436.263215</td>\n",
       "      <td>50970.870610</td>\n",
       "      <td>9.187316</td>\n",
       "      <td>0.503939</td>\n",
       "      <td>0.302532</td>\n",
       "    </tr>\n",
       "    <tr>\n",
       "      <th>min</th>\n",
       "      <td>0.000000</td>\n",
       "      <td>0.000000</td>\n",
       "      <td>10455.000000</td>\n",
       "      <td>25779.000000</td>\n",
       "      <td>0.000000</td>\n",
       "      <td>0.000000</td>\n",
       "      <td>0.000000</td>\n",
       "    </tr>\n",
       "    <tr>\n",
       "      <th>25%</th>\n",
       "      <td>0.000000</td>\n",
       "      <td>0.000000</td>\n",
       "      <td>38929.000000</td>\n",
       "      <td>66606.000000</td>\n",
       "      <td>5.000000</td>\n",
       "      <td>0.000000</td>\n",
       "      <td>0.000000</td>\n",
       "    </tr>\n",
       "    <tr>\n",
       "      <th>50%</th>\n",
       "      <td>1.000000</td>\n",
       "      <td>1.000000</td>\n",
       "      <td>56545.500000</td>\n",
       "      <td>100268.500000</td>\n",
       "      <td>12.000000</td>\n",
       "      <td>0.000000</td>\n",
       "      <td>0.000000</td>\n",
       "    </tr>\n",
       "    <tr>\n",
       "      <th>75%</th>\n",
       "      <td>1.000000</td>\n",
       "      <td>2.000000</td>\n",
       "      <td>72048.250000</td>\n",
       "      <td>148858.500000</td>\n",
       "      <td>22.000000</td>\n",
       "      <td>1.000000</td>\n",
       "      <td>0.000000</td>\n",
       "    </tr>\n",
       "    <tr>\n",
       "      <th>max</th>\n",
       "      <td>1.000000</td>\n",
       "      <td>2.000000</td>\n",
       "      <td>99325.000000</td>\n",
       "      <td>198571.000000</td>\n",
       "      <td>30.000000</td>\n",
       "      <td>1.000000</td>\n",
       "      <td>1.000000</td>\n",
       "    </tr>\n",
       "  </tbody>\n",
       "</table>\n",
       "</div>"
      ],
      "text/plain": [
       "       Undergrad  Marital.Status  Taxable.Income  City.Population  \\\n",
       "count  60.000000       60.000000       60.000000        60.000000   \n",
       "mean    0.583333        1.000000    56500.516667    104336.416667   \n",
       "std     0.497167        0.823387    23436.263215     50970.870610   \n",
       "min     0.000000        0.000000    10455.000000     25779.000000   \n",
       "25%     0.000000        0.000000    38929.000000     66606.000000   \n",
       "50%     1.000000        1.000000    56545.500000    100268.500000   \n",
       "75%     1.000000        2.000000    72048.250000    148858.500000   \n",
       "max     1.000000        2.000000    99325.000000    198571.000000   \n",
       "\n",
       "       Work.Experience      Urban     Income  \n",
       "count        60.000000  60.000000  60.000000  \n",
       "mean         14.000000   0.483333   0.100000  \n",
       "std           9.187316   0.503939   0.302532  \n",
       "min           0.000000   0.000000   0.000000  \n",
       "25%           5.000000   0.000000   0.000000  \n",
       "50%          12.000000   0.000000   0.000000  \n",
       "75%          22.000000   1.000000   0.000000  \n",
       "max          30.000000   1.000000   1.000000  "
      ]
     },
     "execution_count": 12,
     "metadata": {},
     "output_type": "execute_result"
    }
   ],
   "source": [
    "data.describe()"
   ]
  },
  {
   "cell_type": "code",
   "execution_count": 13,
   "id": "fec1273c",
   "metadata": {
    "scrolled": true
   },
   "outputs": [
    {
     "data": {
      "text/html": [
       "<div>\n",
       "<style scoped>\n",
       "    .dataframe tbody tr th:only-of-type {\n",
       "        vertical-align: middle;\n",
       "    }\n",
       "\n",
       "    .dataframe tbody tr th {\n",
       "        vertical-align: top;\n",
       "    }\n",
       "\n",
       "    .dataframe thead th {\n",
       "        text-align: right;\n",
       "    }\n",
       "</style>\n",
       "<table border=\"1\" class=\"dataframe\">\n",
       "  <thead>\n",
       "    <tr style=\"text-align: right;\">\n",
       "      <th></th>\n",
       "      <th>Undergrad</th>\n",
       "      <th>Marital.Status</th>\n",
       "      <th>Taxable.Income</th>\n",
       "      <th>City.Population</th>\n",
       "      <th>Work.Experience</th>\n",
       "      <th>Urban</th>\n",
       "      <th>Income</th>\n",
       "    </tr>\n",
       "  </thead>\n",
       "  <tbody>\n",
       "    <tr>\n",
       "      <th>Undergrad</th>\n",
       "      <td>1.000000</td>\n",
       "      <td>0.041404</td>\n",
       "      <td>-0.085936</td>\n",
       "      <td>0.056492</td>\n",
       "      <td>0.081636</td>\n",
       "      <td>0.343887</td>\n",
       "      <td>-0.056344</td>\n",
       "    </tr>\n",
       "    <tr>\n",
       "      <th>Marital.Status</th>\n",
       "      <td>0.041404</td>\n",
       "      <td>1.000000</td>\n",
       "      <td>0.067253</td>\n",
       "      <td>0.010755</td>\n",
       "      <td>-0.085141</td>\n",
       "      <td>-0.040848</td>\n",
       "      <td>0.204124</td>\n",
       "    </tr>\n",
       "    <tr>\n",
       "      <th>Taxable.Income</th>\n",
       "      <td>-0.085936</td>\n",
       "      <td>0.067253</td>\n",
       "      <td>1.000000</td>\n",
       "      <td>-0.145662</td>\n",
       "      <td>0.050242</td>\n",
       "      <td>0.108425</td>\n",
       "      <td>-0.562884</td>\n",
       "    </tr>\n",
       "    <tr>\n",
       "      <th>City.Population</th>\n",
       "      <td>0.056492</td>\n",
       "      <td>0.010755</td>\n",
       "      <td>-0.145662</td>\n",
       "      <td>1.000000</td>\n",
       "      <td>-0.115790</td>\n",
       "      <td>-0.101971</td>\n",
       "      <td>0.142520</td>\n",
       "    </tr>\n",
       "    <tr>\n",
       "      <th>Work.Experience</th>\n",
       "      <td>0.081636</td>\n",
       "      <td>-0.085141</td>\n",
       "      <td>0.050242</td>\n",
       "      <td>-0.115790</td>\n",
       "      <td>1.000000</td>\n",
       "      <td>-0.223311</td>\n",
       "      <td>-0.213431</td>\n",
       "    </tr>\n",
       "    <tr>\n",
       "      <th>Urban</th>\n",
       "      <td>0.343887</td>\n",
       "      <td>-0.040848</td>\n",
       "      <td>0.108425</td>\n",
       "      <td>-0.101971</td>\n",
       "      <td>-0.223311</td>\n",
       "      <td>1.000000</td>\n",
       "      <td>-0.100056</td>\n",
       "    </tr>\n",
       "    <tr>\n",
       "      <th>Income</th>\n",
       "      <td>-0.056344</td>\n",
       "      <td>0.204124</td>\n",
       "      <td>-0.562884</td>\n",
       "      <td>0.142520</td>\n",
       "      <td>-0.213431</td>\n",
       "      <td>-0.100056</td>\n",
       "      <td>1.000000</td>\n",
       "    </tr>\n",
       "  </tbody>\n",
       "</table>\n",
       "</div>"
      ],
      "text/plain": [
       "                 Undergrad  Marital.Status  Taxable.Income  City.Population  \\\n",
       "Undergrad         1.000000        0.041404       -0.085936         0.056492   \n",
       "Marital.Status    0.041404        1.000000        0.067253         0.010755   \n",
       "Taxable.Income   -0.085936        0.067253        1.000000        -0.145662   \n",
       "City.Population   0.056492        0.010755       -0.145662         1.000000   \n",
       "Work.Experience   0.081636       -0.085141        0.050242        -0.115790   \n",
       "Urban             0.343887       -0.040848        0.108425        -0.101971   \n",
       "Income           -0.056344        0.204124       -0.562884         0.142520   \n",
       "\n",
       "                 Work.Experience     Urban    Income  \n",
       "Undergrad               0.081636  0.343887 -0.056344  \n",
       "Marital.Status         -0.085141 -0.040848  0.204124  \n",
       "Taxable.Income          0.050242  0.108425 -0.562884  \n",
       "City.Population        -0.115790 -0.101971  0.142520  \n",
       "Work.Experience         1.000000 -0.223311 -0.213431  \n",
       "Urban                  -0.223311  1.000000 -0.100056  \n",
       "Income                 -0.213431 -0.100056  1.000000  "
      ]
     },
     "execution_count": 13,
     "metadata": {},
     "output_type": "execute_result"
    }
   ],
   "source": [
    "data.corr()"
   ]
  },
  {
   "cell_type": "code",
   "execution_count": 14,
   "id": "fc39a330",
   "metadata": {},
   "outputs": [],
   "source": [
    "#Droping the Taxable income variable - we taken that as Income description\n",
    "data.drop([\"Taxable.Income\"],axis=1,inplace=True)"
   ]
  },
  {
   "cell_type": "code",
   "execution_count": 15,
   "id": "f1057ac3",
   "metadata": {},
   "outputs": [],
   "source": [
    "data=data.rename(columns={'Marital.Status':'Marital_Status','City.Population':'City_Population','Work.Experience':'Work_Experience'})"
   ]
  },
  {
   "cell_type": "markdown",
   "id": "523a9ba8",
   "metadata": {},
   "source": [
    "# Data Visualization"
   ]
  },
  {
   "cell_type": "code",
   "execution_count": 16,
   "id": "2e14fe37",
   "metadata": {},
   "outputs": [],
   "source": [
    "import seaborn as sns\n",
    "import matplotlib.pyplot as plt"
   ]
  },
  {
   "cell_type": "code",
   "execution_count": 17,
   "id": "0a0c18c0",
   "metadata": {
    "scrolled": false
   },
   "outputs": [
    {
     "data": {
      "image/png": "[encoded data removed]",
      "text/plain": [
       "<Figure size 1440x1440 with 6 Axes>"
      ]
     },
     "metadata": {
      "needs_background": "light"
     },
     "output_type": "display_data"
    }
   ],
   "source": [
    "# Visulazing the distibution of the data for every feature\n",
    "data.hist(edgecolor='black', linewidth=1.2, figsize=(20, 20));"
   ]
  },
  {
   "cell_type": "code",
   "execution_count": 18,
   "id": "26901e5f",
   "metadata": {
    "scrolled": false
   },
   "outputs": [
    {
     "data": {
      "text/plain": [
       "<seaborn.axisgrid.PairGrid at 0x1c30eb35dc0>"
      ]
     },
     "execution_count": 18,
     "metadata": {},
     "output_type": "execute_result"
    },
    {
     "data": {
      "image/png": "[encoded data removed]",
      "text/plain": [
       "<Figure size 1080x1080 with 42 Axes>"
      ]
     },
     "metadata": {
      "needs_background": "light"
     },
     "output_type": "display_data"
    }
   ],
   "source": [
    "#pairplot\n",
    "sns.pairplot(data)"
   ]
  },
  {
   "cell_type": "code",
   "execution_count": 19,
   "id": "6d777b52",
   "metadata": {},
   "outputs": [
    {
     "data": {
      "text/plain": [
       "<AxesSubplot:>"
      ]
     },
     "execution_count": 19,
     "metadata": {},
     "output_type": "execute_result"
    },
    {
     "data": {
      "image/png": "[encoded data removed]",
      "text/plain": [
       "<Figure size 720x576 with 2 Axes>"
      ]
     },
     "metadata": {
      "needs_background": "light"
     },
     "output_type": "display_data"
    }
   ],
   "source": [
    "#heat map for corelation matrix\n",
    "plt.figure(figsize=(10,8))\n",
    "sns.heatmap(data.corr(),annot=True, annot_kws={\"size\":15})"
   ]
  },
  {
   "cell_type": "markdown",
   "id": "0c035ff2",
   "metadata": {},
   "source": [
    "#### Let’s separate the Fraudulent cases from the authentic ones and compare their occurrences in the dataset."
   ]
  },
  {
   "cell_type": "code",
   "execution_count": 20,
   "id": "fc8fb085",
   "metadata": {},
   "outputs": [
    {
     "name": "stdout",
     "output_type": "stream",
     "text": [
      "0.1111111111111111\n",
      "Fraud Cases: 6\n",
      "Valid cases: 54\n"
     ]
    }
   ],
   "source": [
    "Fraud = data[data['Income'] == 1]\n",
    "Valid = data[data['Income'] == 0]\n",
    "\n",
    "outlier_fraction = len(Fraud)/float(len(Valid))\n",
    "print(outlier_fraction)\n",
    "\n",
    "print('Fraud Cases: {}'.format(len(data[data['Income'] == 1])))\n",
    "print('Valid cases: {}'.format(len(data[data['Income'] == 0])))"
   ]
  },
  {
   "cell_type": "markdown",
   "id": "852840d3",
   "metadata": {},
   "source": [
    "### There is only 0.1% fraudulent cases out all the cases."
   ]
  },
  {
   "cell_type": "code",
   "execution_count": 21,
   "id": "ee9df1ec",
   "metadata": {},
   "outputs": [
    {
     "name": "stdout",
     "output_type": "stream",
     "text": [
      "Work_exp Details in fradulent cases\n"
     ]
    },
    {
     "data": {
      "text/plain": [
       "count    60.000000\n",
       "mean     14.000000\n",
       "std       9.187316\n",
       "min       0.000000\n",
       "25%       5.000000\n",
       "50%      12.000000\n",
       "75%      22.000000\n",
       "max      30.000000\n",
       "Name: Work_Experience, dtype: float64"
      ]
     },
     "execution_count": 21,
     "metadata": {},
     "output_type": "execute_result"
    }
   ],
   "source": [
    "print(\"Work_exp Details in fradulent cases\")\n",
    "data.Work_Experience.describe()"
   ]
  },
  {
   "cell_type": "markdown",
   "id": "2000f17c",
   "metadata": {},
   "source": [
    "## let’s proceed with dividing the data values"
   ]
  },
  {
   "cell_type": "code",
   "execution_count": 22,
   "id": "8c4c290f",
   "metadata": {},
   "outputs": [],
   "source": [
    "x= data.iloc[:,0:5]\n",
    "y= data.iloc[:,5]"
   ]
  },
  {
   "cell_type": "code",
   "execution_count": 23,
   "id": "13b9e8de",
   "metadata": {},
   "outputs": [],
   "source": [
    "# Using Skicit-learn to split data into training and testing sets\n",
    "from sklearn.model_selection import train_test_split\n",
    "# Split the data into training and testing sets\n",
    "X_train, X_test, Y_train, Y_test = train_test_split(x, y, test_size = 0.2, random_state = 42)"
   ]
  },
  {
   "cell_type": "markdown",
   "id": "b710c2ba",
   "metadata": {},
   "source": [
    "### Building the Isolation Forest Model"
   ]
  },
  {
   "cell_type": "code",
   "execution_count": 24,
   "id": "a884edb6",
   "metadata": {},
   "outputs": [],
   "source": [
    "from sklearn.metrics import classification_report, accuracy_score,precision_score,recall_score,f1_score,matthews_corrcoef\n",
    "from sklearn.metrics import confusion_matrix"
   ]
  },
  {
   "cell_type": "code",
   "execution_count": 25,
   "id": "680edeb6",
   "metadata": {},
   "outputs": [
    {
     "data": {
      "text/plain": [
       "array([ 1, -1,  1,  1, -1,  1,  1,  1,  1, -1,  1,  1])"
      ]
     },
     "execution_count": 25,
     "metadata": {},
     "output_type": "execute_result"
    }
   ],
   "source": [
    "#Building another model/classifier ISOLATION FOREST\n",
    "from sklearn.ensemble import IsolationForest\n",
    "ifc=IsolationForest(max_samples=len(X_train),\n",
    "                    contamination=outlier_fraction,random_state=1)\n",
    "ifc.fit(X_train)\n",
    "scores_pred = ifc.decision_function(X_train)\n",
    "y_pred = ifc.predict(X_test)\n",
    "y_pred"
   ]
  },
  {
   "cell_type": "code",
   "execution_count": 26,
   "id": "b3b9e231",
   "metadata": {},
   "outputs": [
    {
     "data": {
      "text/plain": [
       "3"
      ]
     },
     "execution_count": 26,
     "metadata": {},
     "output_type": "execute_result"
    }
   ],
   "source": [
    "# Reshape the prediction values to 0 for valid, 1 for fraud. \n",
    "y_pred[y_pred == 1] = 0\n",
    "y_pred[y_pred == -1] = 1\n",
    "n_errors = (y_pred != Y_test).sum()\n",
    "n_errors"
   ]
  },
  {
   "cell_type": "markdown",
   "id": "aaaec38c",
   "metadata": {},
   "source": [
    "##### Evaluate the Model and print the results. We will be calculating the Accuracy, Precision, Recall, F1-Score and the Matthews correlation coefficient for the sake of totality."
   ]
  },
  {
   "cell_type": "code",
   "execution_count": 29,
   "id": "c3f8871e",
   "metadata": {},
   "outputs": [
    {
     "name": "stdout",
     "output_type": "stream",
     "text": [
      "the Model used is Isolation Forest\n",
      "The accuracy is  0.75\n",
      "The precision is 0.0\n",
      "The recall is 0.0\n",
      "The F1-Score is 0.0\n",
      "The Matthews correlation coefficient is0.0\n"
     ]
    },
    {
     "name": "stderr",
     "output_type": "stream",
     "text": [
      "D:\\Anaconda\\lib\\site-packages\\sklearn\\metrics\\_classification.py:1268: UndefinedMetricWarning: Recall is ill-defined and being set to 0.0 due to no true samples. Use `zero_division` parameter to control this behavior.\n",
      "  _warn_prf(average, modifier, msg_start, len(result))\n",
      "D:\\Anaconda\\lib\\site-packages\\sklearn\\metrics\\_classification.py:896: RuntimeWarning: invalid value encountered in double_scalars\n",
      "  mcc = cov_ytyp / np.sqrt(cov_ytyt * cov_ypyp)\n"
     ]
    }
   ],
   "source": [
    "#printing every score of the classifier\n",
    "#scoring in any thing\n",
    "\n",
    "from sklearn.metrics import confusion_matrix\n",
    "n_outliers = len(Fraud)\n",
    "print(\"the Model used is {}\".format(\"Isolation Forest\"))\n",
    "acc= accuracy_score(Y_test,y_pred)\n",
    "print(\"The accuracy is  {}\".format(acc))\n",
    "prec= precision_score(Y_test,y_pred)\n",
    "print(\"The precision is {}\".format(prec))\n",
    "rec= recall_score(Y_test,y_pred)\n",
    "print(\"The recall is {}\".format(rec))\n",
    "f1= f1_score(Y_test,y_pred)\n",
    "print(\"The F1-Score is {}\".format(f1))\n",
    "MCC=matthews_corrcoef(Y_test,y_pred)\n",
    "print(\"The Matthews correlation coefficient is{}\".format(MCC))"
   ]
  },
  {
   "cell_type": "markdown",
   "id": "1d802107",
   "metadata": {},
   "source": [
    "### Visualizing the Confusion Matrix for this model."
   ]
  },
  {
   "cell_type": "code",
   "execution_count": 32,
   "id": "ab2bd772",
   "metadata": {},
   "outputs": [
    {
     "data": {
      "image/png": "[encoded data removed]",
      "text/plain": [
       "<Figure size 720x720 with 2 Axes>"
      ]
     },
     "metadata": {
      "needs_background": "light"
     },
     "output_type": "display_data"
    }
   ],
   "source": [
    "#printing the confusion matrix\n",
    "LABELS = ['Normal', 'Fraud']\n",
    "conf_matrix = confusion_matrix(Y_test, y_pred)\n",
    "plt.figure(figsize=(10, 10))\n",
    "sns.heatmap(conf_matrix, xticklabels=LABELS,\n",
    "            yticklabels=LABELS, annot=True, fmt=\"d\");\n",
    "plt.title(\"Confusion matrix\")\n",
    "plt.ylabel('True class')\n",
    "plt.xlabel('Predicted class')\n",
    "plt.show()"
   ]
  },
  {
   "cell_type": "code",
   "execution_count": 33,
   "id": "e8c20f1a",
   "metadata": {},
   "outputs": [
    {
     "name": "stdout",
     "output_type": "stream",
     "text": [
      "Isolation Forest: 3\n",
      "0.75\n",
      "              precision    recall  f1-score   support\n",
      "\n",
      "           0       1.00      0.75      0.86        12\n",
      "           1       0.00      0.00      0.00         0\n",
      "\n",
      "    accuracy                           0.75        12\n",
      "   macro avg       0.50      0.38      0.43        12\n",
      "weighted avg       1.00      0.75      0.86        12\n",
      "\n"
     ]
    },
    {
     "name": "stderr",
     "output_type": "stream",
     "text": [
      "D:\\Anaconda\\lib\\site-packages\\sklearn\\metrics\\_classification.py:1268: UndefinedMetricWarning: Recall and F-score are ill-defined and being set to 0.0 in labels with no true samples. Use `zero_division` parameter to control this behavior.\n",
      "  _warn_prf(average, modifier, msg_start, len(result))\n"
     ]
    }
   ],
   "source": [
    "# Run classification metrics\n",
    "\n",
    "print('{}: {}'.format(\"Isolation Forest\", n_errors))\n",
    "print(accuracy_score(Y_test, y_pred))\n",
    "print(classification_report(Y_test, y_pred))"
   ]
  },
  {
   "cell_type": "markdown",
   "id": "df3b04cd",
   "metadata": {},
   "source": [
    "# Building the Random Forest Model"
   ]
  },
  {
   "cell_type": "markdown",
   "id": "239fe933",
   "metadata": {},
   "source": [
    "Random Forest Classifier"
   ]
  },
  {
   "cell_type": "code",
   "execution_count": 34,
   "id": "54a398ee",
   "metadata": {},
   "outputs": [],
   "source": [
    "# Building the Random Forest Classifier (RANDOM FOREST)\n",
    "from sklearn.ensemble import RandomForestClassifier\n",
    "# random forest model creation\n",
    "rfc = RandomForestClassifier()\n",
    "rfc.fit(X_train,Y_train)\n",
    "# predictions\n",
    "y_pred = rfc.predict(X_test)"
   ]
  },
  {
   "cell_type": "markdown",
   "id": "797c7338",
   "metadata": {},
   "source": [
    "## Building an Evaluation matrix on test set"
   ]
  },
  {
   "cell_type": "code",
   "execution_count": 35,
   "id": "506b0a67",
   "metadata": {},
   "outputs": [
    {
     "name": "stdout",
     "output_type": "stream",
     "text": [
      "The model used is Random Forest classifier\n",
      "The accuracy is  1.0\n",
      "The precision is 0.0\n",
      "The recall is 0.0\n",
      "The F1-Score is 0.0\n",
      "The Matthews correlation coefficient is 0.0\n"
     ]
    },
    {
     "name": "stderr",
     "output_type": "stream",
     "text": [
      "D:\\Anaconda\\lib\\site-packages\\sklearn\\metrics\\_classification.py:1268: UndefinedMetricWarning: Precision is ill-defined and being set to 0.0 due to no predicted samples. Use `zero_division` parameter to control this behavior.\n",
      "  _warn_prf(average, modifier, msg_start, len(result))\n",
      "D:\\Anaconda\\lib\\site-packages\\sklearn\\metrics\\_classification.py:1268: UndefinedMetricWarning: Recall is ill-defined and being set to 0.0 due to no true samples. Use `zero_division` parameter to control this behavior.\n",
      "  _warn_prf(average, modifier, msg_start, len(result))\n",
      "D:\\Anaconda\\lib\\site-packages\\sklearn\\metrics\\_classification.py:1510: UndefinedMetricWarning: F-score is ill-defined and being set to 0.0 due to no true nor predicted samples. Use `zero_division` parameter to control this behavior.\n",
      "  _warn_prf(\n",
      "D:\\Anaconda\\lib\\site-packages\\sklearn\\metrics\\_classification.py:896: RuntimeWarning: invalid value encountered in double_scalars\n",
      "  mcc = cov_ytyp / np.sqrt(cov_ytyt * cov_ypyp)\n"
     ]
    }
   ],
   "source": [
    "#printing every score of the classifier\n",
    "#scoring in any thing\n",
    "from sklearn.metrics import classification_report, accuracy_score,precision_score,recall_score,f1_score,matthews_corrcoef\n",
    "from sklearn.metrics import confusion_matrix\n",
    "n_outliers = len(Fraud)\n",
    "n_errors = (y_pred != Y_test).sum()\n",
    "print(\"The model used is Random Forest classifier\")\n",
    "acc= accuracy_score(Y_test,y_pred)\n",
    "print(\"The accuracy is  {}\".format(acc))\n",
    "prec= precision_score(Y_test,y_pred)\n",
    "print(\"The precision is {}\".format(prec))\n",
    "rec= recall_score(Y_test,y_pred)\n",
    "print(\"The recall is {}\".format(rec))\n",
    "f1= f1_score(Y_test,y_pred)\n",
    "print(\"The F1-Score is {}\".format(f1))\n",
    "MCC=matthews_corrcoef(Y_test,y_pred)\n",
    "print(\"The Matthews correlation coefficient is {}\".format(MCC))"
   ]
  },
  {
   "cell_type": "code",
   "execution_count": 36,
   "id": "362ed5d8",
   "metadata": {},
   "outputs": [
    {
     "data": {
      "image/png": "[encoded data removed]",
      "text/plain": [
       "<Figure size 864x864 with 2 Axes>"
      ]
     },
     "metadata": {
      "needs_background": "light"
     },
     "output_type": "display_data"
    }
   ],
   "source": [
    "#printing the confusion matrix\n",
    "LABELS = ['Normal', 'Fraud']\n",
    "conf_matrix = confusion_matrix(Y_test, y_pred)\n",
    "plt.figure(figsize=(12, 12))\n",
    "sns.heatmap(conf_matrix, xticklabels=LABELS, yticklabels=LABELS, annot=True, fmt=\"d\");\n",
    "plt.title(\"Confusion matrix\")\n",
    "plt.ylabel('True class')\n",
    "plt.xlabel('Predicted class')\n",
    "plt.show()"
   ]
  },
  {
   "cell_type": "code",
   "execution_count": 37,
   "id": "872b296b",
   "metadata": {},
   "outputs": [
    {
     "name": "stdout",
     "output_type": "stream",
     "text": [
      "Random Forest: 0\n",
      "1.0\n",
      "              precision    recall  f1-score   support\n",
      "\n",
      "           0       1.00      1.00      1.00        12\n",
      "\n",
      "    accuracy                           1.00        12\n",
      "   macro avg       1.00      1.00      1.00        12\n",
      "weighted avg       1.00      1.00      1.00        12\n",
      "\n"
     ]
    },
    {
     "data": {
      "text/plain": [
       "<Figure size 648x504 with 0 Axes>"
      ]
     },
     "metadata": {},
     "output_type": "display_data"
    }
   ],
   "source": [
    "# Run classification metrics\n",
    "plt.figure(figsize=(9, 7))\n",
    "print('{}: {}'.format(\"Random Forest\", n_errors))\n",
    "print(accuracy_score(Y_test, y_pred))\n",
    "print(classification_report(Y_test, y_pred))"
   ]
  }
 ],
 "metadata": {
  "kernelspec": {
   "display_name": "Python 3",
   "language": "python",
   "name": "python3"
  },
  "language_info": {
   "codemirror_mode": {
    "name": "ipython",
    "version": 3
   },
   "file_extension": ".py",
   "mimetype": "text/x-python",
   "name": "python",
   "nbconvert_exporter": "python",
   "pygments_lexer": "ipython3",
   "version": "3.8.8"
  }
 },
 "nbformat": 4,
 "nbformat_minor": 5
}
